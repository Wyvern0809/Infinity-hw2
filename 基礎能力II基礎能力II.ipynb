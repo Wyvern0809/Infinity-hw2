{
 "cells": [
  {
   "cell_type": "code",
   "execution_count": 36,
   "id": "af483f4c-6ed8-49ff-a205-be4fcc426b73",
   "metadata": {},
   "outputs": [],
   "source": [
    "class Student:\n",
    "  def __init__(self, name, student_id, age, gender):\n",
    "    self.name = name\n",
    "    self.student_id = student_id\n",
    "    self.age = age\n",
    "    self.gender = gender\n",
    "    \n",
    "  def set_grade(self,grade):\n",
    "    self.grade = grade\n",
    "    \n",
    "  def get_grade(self):\n",
    "    return self.name\n",
    "\n",
    "  def display_student_info(self):\n",
    "        print(\"Name:\", self.name)\n",
    "        print(\"Student ID:\", self.student_id)\n",
    "        print(\"Age:\", self.age)\n",
    "        print(\"Gender:\", self.gender)\n",
    "        print(\"Grade:\", self.grade)\n",
    "  "
   ]
  },
  {
   "cell_type": "code",
   "execution_count": 39,
   "id": "37e2de32-7cc7-4a71-81b7-539e8f0d6433",
   "metadata": {},
   "outputs": [
    {
     "name": "stdout",
     "output_type": "stream",
     "text": [
      "Name: 習近平\n",
      "Student ID: 19890604\n",
      "Age: 70\n",
      "Gender: male\n",
      "Grade: 64\n",
      "\n",
      "Name: 蔡英文\n",
      "Student ID: 19560831\n",
      "Age: 66\n",
      "Gender: female\n",
      "Grade: 87\n"
     ]
    }
   ],
   "source": [
    "s1 = Student(\"習近平\", 19890604, 70, \"male\")\n",
    "s1.set_grade(64)\n",
    "s1.display_student_info()\n",
    "print(\"\")\n",
    "s2 = Student(\"蔡英文\", 19560831, 66, \"female\")\n",
    "s2.set_grade(87)\n",
    "s2.display_student_info()\n"
   ]
  },
  {
   "cell_type": "code",
   "execution_count": null,
   "id": "9fb5d799-4942-4d40-abbd-1fb6323d1518",
   "metadata": {},
   "outputs": [],
   "source": []
  }
 ],
 "metadata": {
  "kernelspec": {
   "display_name": "Python 3 (ipykernel)",
   "language": "python",
   "name": "python3"
  },
  "language_info": {
   "codemirror_mode": {
    "name": "ipython",
    "version": 3
   },
   "file_extension": ".py",
   "mimetype": "text/x-python",
   "name": "python",
   "nbconvert_exporter": "python",
   "pygments_lexer": "ipython3",
   "version": "3.10.9"
  }
 },
 "nbformat": 4,
 "nbformat_minor": 5
}
